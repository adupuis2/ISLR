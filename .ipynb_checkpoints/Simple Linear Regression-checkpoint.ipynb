{
 "cells": [
  {
   "cell_type": "code",
   "execution_count": 4,
   "metadata": {},
   "outputs": [],
   "source": [
    "import pandas as pd\n",
    "import numpy as np\n"
   ]
  },
  {
   "cell_type": "code",
   "execution_count": 5,
   "metadata": {},
   "outputs": [],
   "source": [
    "auto_df = pd.read_csv(\"data\\Auto.csv\")\n",
    "ads_df = pd.read_csv(\"data\\Advertising.csv\")\n",
    "ads_df = ads_df.loc[:, \"TV\":]"
   ]
  },
  {
   "cell_type": "code",
   "execution_count": 28,
   "metadata": {},
   "outputs": [],
   "source": [
    "def RSS(xcol, ycol):\n",
    "    xbar = np.mean(xcol)\n",
    "    ybar = np.mean(ycol)\n",
    "    b1 = np.sum([((xcol[i] - xbar) * (ycol[i] - ybar)) for i in range(len(xcol))])\n",
    "    b1 = b1 / np.sum([(x - xbar)**2 for x in xcol])\n",
    "    b0 = ybar - b1*xbar\n",
    "    \n",
    "    rss = np.sum([(ycol[i] - b0 - b1*xcol[i])**2 for i in range(len(xcol))])\n",
    "    return rss"
   ]
  },
  {
   "cell_type": "code",
   "execution_count": 29,
   "metadata": {},
   "outputs": [],
   "source": [
    "rssout = RSS(ads_df.loc[:,\"TV\"], ads_df.loc[:, \"radio\"])"
   ]
  },
  {
   "cell_type": "code",
   "execution_count": 30,
   "metadata": {},
   "outputs": [
    {
     "name": "stdout",
     "output_type": "stream",
     "text": [
      "43733.350428904385\n"
     ]
    }
   ],
   "source": [
    "print(rssout)"
   ]
  },
  {
   "cell_type": "code",
   "execution_count": null,
   "metadata": {},
   "outputs": [],
   "source": []
  }
 ],
 "metadata": {
  "kernelspec": {
   "display_name": "Python 3",
   "language": "python",
   "name": "python3"
  },
  "language_info": {
   "codemirror_mode": {
    "name": "ipython",
    "version": 3
   },
   "file_extension": ".py",
   "mimetype": "text/x-python",
   "name": "python",
   "nbconvert_exporter": "python",
   "pygments_lexer": "ipython3",
   "version": "3.6.5"
  }
 },
 "nbformat": 4,
 "nbformat_minor": 2
}

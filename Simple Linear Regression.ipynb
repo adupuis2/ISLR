{
 "cells": [
  {
   "cell_type": "code",
   "execution_count": 4,
   "metadata": {},
   "outputs": [],
   "source": [
    "import pandas as pd\n",
    "import numpy as np\n",
    "auto_df = pd.read_csv(\"data\\Auto.csv\")\n",
    "ads_df = pd.read_csv(\"data\\Advertising.csv\")"
   ]
  },
  {
   "cell_type": "code",
   "execution_count": 99,
   "metadata": {},
   "outputs": [],
   "source": [
    "def RSS(xcol, ycol):\n",
    "    xbar = np.mean(xcol)\n",
    "    ybar = np.mean(ycol)\n",
    "    b1 = np.sum([((xcol[i] - xbar) * (ycol[i] - ybar)) for i in range(len(xcol))])\n",
    "    b1 = b1 / np.sum([(x - xbar)**2 for x in xcol])\n",
    "    b0 = ybar - b1*xbar\n",
    "    rss = np.sum([(ycol[i] - b0 - b1*xcol[i])**2 for i in range(len(xcol))])\n",
    "    return {\"b0\": b0, \"b1\": b1, \"rss\": rss}\n",
    "\n",
    "def eval_rss(rss, x):\n",
    "    return (rss[\"b0\"] + rss[\"b1\"]*x)"
   ]
  },
  {
   "cell_type": "code",
   "execution_count": 144,
   "metadata": {},
   "outputs": [
    {
     "name": "stdout",
     "output_type": "stream",
     "text": [
      "RSS: {'b0': 6.863396649913615, 'b1': 0.04918800257681319, 'rss': 1577.2718342522166}\n"
     ]
    }
   ],
   "source": [
    "ads_df = ads_df.loc[:, \"TV\":]\n",
    "ads_train = ads_df.sample(frac=0.8).reset_index()\n",
    "ads_test = ads_df.drop(ads_train.index).reset_index()\n",
    "rssout = RSS(ads_train.loc[:,\"TV\"], ads_train.loc[:, \"sales\"])\n",
    "print(\"RSS: \" + str(rssout))"
   ]
  },
  {
   "cell_type": "code",
   "execution_count": 145,
   "metadata": {},
   "outputs": [
    {
     "name": "stdout",
     "output_type": "stream",
     "text": [
      "mean difference: 3.013956518409212\n",
      "percentage difference: 21.347190922774406\n"
     ]
    }
   ],
   "source": [
    "ads_test = ads_test[[\"TV\", \"sales\"]]\n",
    "expected = [eval_rss(rssout, ads_test.loc[i, \"TV\"]) for i in range(len(ads_test))]\n",
    "actual = [ads_test.loc[i, \"sales\"] for i in range(len(ads_test))]\n",
    "difference = [abs(actual[i] - expected[i]) for i in range(len(actual))]\n",
    "mean_difference = np.mean(difference)\n",
    "print(\"mean difference: \" + str(mean_difference))\n",
    "print(\"percentage difference: \" + str(100*mean_difference / np.mean(ads_train.loc[:, \"sales\"])))\n"
   ]
  },
  {
   "cell_type": "code",
   "execution_count": 57,
   "metadata": {},
   "outputs": [
    {
     "data": {
      "text/html": [
       "<div>\n",
       "<style scoped>\n",
       "    .dataframe tbody tr th:only-of-type {\n",
       "        vertical-align: middle;\n",
       "    }\n",
       "\n",
       "    .dataframe tbody tr th {\n",
       "        vertical-align: top;\n",
       "    }\n",
       "\n",
       "    .dataframe thead th {\n",
       "        text-align: right;\n",
       "    }\n",
       "</style>\n",
       "<table border=\"1\" class=\"dataframe\">\n",
       "  <thead>\n",
       "    <tr style=\"text-align: right;\">\n",
       "      <th></th>\n",
       "      <th>TV</th>\n",
       "      <th>radio</th>\n",
       "      <th>newspaper</th>\n",
       "      <th>sales</th>\n",
       "    </tr>\n",
       "  </thead>\n",
       "  <tbody>\n",
       "    <tr>\n",
       "      <th>0</th>\n",
       "      <td>230.1</td>\n",
       "      <td>37.8</td>\n",
       "      <td>69.2</td>\n",
       "      <td>22.1</td>\n",
       "    </tr>\n",
       "    <tr>\n",
       "      <th>4</th>\n",
       "      <td>180.8</td>\n",
       "      <td>10.8</td>\n",
       "      <td>58.4</td>\n",
       "      <td>12.9</td>\n",
       "    </tr>\n",
       "    <tr>\n",
       "      <th>10</th>\n",
       "      <td>66.1</td>\n",
       "      <td>5.8</td>\n",
       "      <td>24.2</td>\n",
       "      <td>8.6</td>\n",
       "    </tr>\n",
       "    <tr>\n",
       "      <th>13</th>\n",
       "      <td>97.5</td>\n",
       "      <td>7.6</td>\n",
       "      <td>7.2</td>\n",
       "      <td>9.7</td>\n",
       "    </tr>\n",
       "    <tr>\n",
       "      <th>21</th>\n",
       "      <td>237.4</td>\n",
       "      <td>5.1</td>\n",
       "      <td>23.5</td>\n",
       "      <td>12.5</td>\n",
       "    </tr>\n",
       "  </tbody>\n",
       "</table>\n",
       "</div>"
      ],
      "text/plain": [
       "       TV  radio  newspaper  sales\n",
       "0   230.1   37.8       69.2   22.1\n",
       "4   180.8   10.8       58.4   12.9\n",
       "10   66.1    5.8       24.2    8.6\n",
       "13   97.5    7.6        7.2    9.7\n",
       "21  237.4    5.1       23.5   12.5"
      ]
     },
     "execution_count": 57,
     "metadata": {},
     "output_type": "execute_result"
    }
   ],
   "source": []
  },
  {
   "cell_type": "code",
   "execution_count": 114,
   "metadata": {},
   "outputs": [
    {
     "data": {
      "text/plain": [
       "[{'expected': 15.27039906740145, 'actual': 14.4},\n",
       " {'expected': 11.109682575806659, 'actual': 13.3},\n",
       " {'expected': 16.032557963903262, 'actual': 14.9},\n",
       " {'expected': 14.83898837126835, 'actual': 18.0},\n",
       " {'expected': 12.61962001227251, 'actual': 11.9},\n",
       " {'expected': 18.24233941854059, 'actual': 11.9},\n",
       " {'expected': 7.859721998270635, 'actual': 8.0},\n",
       " {'expected': 16.914553164886488, 'actual': 12.2},\n",
       " {'expected': 17.326790052302563, 'actual': 17.1},\n",
       " {'expected': 20.62947860381041, 'actual': 15.0},\n",
       " {'expected': 9.398420147812026, 'actual': 8.4},\n",
       " {'expected': 14.886922893060916, 'actual': 14.5},\n",
       " {'expected': 7.941210685317998, 'actual': 7.6},\n",
       " {'expected': 15.073867528051927, 'actual': 11.7},\n",
       " {'expected': 17.66233170485053, 'actual': 11.5},\n",
       " {'expected': 20.274763142545414, 'actual': 27.0},\n",
       " {'expected': 18.908629271457265, 'actual': 20.2},\n",
       " {'expected': 15.160149667278546, 'actual': 11.7},\n",
       " {'expected': 20.265176238186903, 'actual': 11.8},\n",
       " {'expected': 14.93965086703274, 'actual': 12.6},\n",
       " {'expected': 14.508240170899638, 'actual': 10.5},\n",
       " {'expected': 17.47538706985952, 'actual': 12.2},\n",
       " {'expected': 9.69561418292594, 'actual': 8.7},\n",
       " {'expected': 20.78766252572588, 'actual': 26.2},\n",
       " {'expected': 19.167475689137124, 'actual': 17.6},\n",
       " {'expected': 16.82827102565987, 'actual': 22.6},\n",
       " {'expected': 13.688559848246747, 'actual': 10.3},\n",
       " {'expected': 16.16198117274319, 'actual': 17.3},\n",
       " {'expected': 20.710967290857774, 'actual': 15.9},\n",
       " {'expected': 7.898069615704688, 'actual': 6.7},\n",
       " {'expected': 8.895107668990075, 'actual': 10.8},\n",
       " {'expected': 10.620750453522477, 'actual': 9.9},\n",
       " {'expected': 7.8261678330158375, 'actual': 5.9},\n",
       " {'expected': 14.99717229318382, 'actual': 19.6},\n",
       " {'expected': 14.177491970530928, 'actual': 17.3},\n",
       " {'expected': 8.83279279065974, 'actual': 7.6},\n",
       " {'expected': 11.517126011043477, 'actual': 9.7},\n",
       " {'expected': 15.486104415467999, 'actual': 12.8},\n",
       " {'expected': 20.595924438555613, 'actual': 25.5},\n",
       " {'expected': 18.127296566238424, 'actual': 13.4}]"
      ]
     },
     "execution_count": 114,
     "metadata": {},
     "output_type": "execute_result"
    }
   ],
   "source": []
  },
  {
   "cell_type": "code",
   "execution_count": null,
   "metadata": {},
   "outputs": [],
   "source": []
  }
 ],
 "metadata": {
  "kernelspec": {
   "display_name": "Python 3",
   "language": "python",
   "name": "python3"
  },
  "language_info": {
   "codemirror_mode": {
    "name": "ipython",
    "version": 3
   },
   "file_extension": ".py",
   "mimetype": "text/x-python",
   "name": "python",
   "nbconvert_exporter": "python",
   "pygments_lexer": "ipython3",
   "version": "3.6.5"
  }
 },
 "nbformat": 4,
 "nbformat_minor": 2
}
